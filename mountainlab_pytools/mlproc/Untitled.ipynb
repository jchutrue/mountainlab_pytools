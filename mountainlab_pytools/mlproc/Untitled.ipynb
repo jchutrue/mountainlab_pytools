{
 "cells": [
  {
   "cell_type": "code",
   "execution_count": 1,
   "metadata": {},
   "outputs": [],
   "source": [
    "from mlclient import MLClient"
   ]
  },
  {
   "cell_type": "code",
   "execution_count": 2,
   "metadata": {},
   "outputs": [],
   "source": [
    "MLC=MLClient()\n",
    "duration=1800\n",
    "for k in range(5,8):\n",
    "    MLC.addProcess(\n",
    "        'ephys.synthesize_random_waveforms',\n",
    "        {},\n",
    "        {'waveforms_out':'waveforms-{}.mda'.format(k)},\n",
    "        {'K':k,'upsamplefac':13},\n",
    "        {'verbose':'minimal','force_run':True}\n",
    "    )\n",
    "    MLC.addProcess(\n",
    "        'ephys.synthesize_random_firings',\n",
    "        {},\n",
    "        {'firings_out':'firings-{}.mda'.format(k)},\n",
    "        {'K':k,'duration':duration},\n",
    "        {'verbose':'minimal'}\n",
    "    )\n",
    "    MLC.addProcess(\n",
    "        'ephys.synthesize_timeseries',\n",
    "        {'firings':'firings-{}.mda'.format(k),'waveforms':'waveforms-{}.mda'.format(k)},\n",
    "        {'timeseries_out':'raw-{}.mda.prv'.format(k)},\n",
    "        {'duration':duration,'noise_level':10,'waveform_upsamplefac':13},\n",
    "        {'verbose':'minimal'}\n",
    "    )"
   ]
  },
  {
   "cell_type": "code",
   "execution_count": null,
   "metadata": {},
   "outputs": [
    {
     "name": "stdout",
     "output_type": "stream",
     "text": [
      "Running: ml-run-process ephys.synthesize_random_waveforms -i  -o waveforms_out:waveforms-5.mda -p K:5 upsamplefac:13 --force_run --verbose=minimal\n",
      "Running: ml-run-process ephys.synthesize_random_waveforms -i  -o waveforms_out:waveforms-6.mda -p K:6 upsamplefac:13 --force_run --verbose=minimal\n",
      "Running: ml-run-process ephys.synthesize_random_waveforms -i  -o waveforms_out:waveforms-7.mda -p K:7 upsamplefac:13 --force_run --verbose=minimal\n",
      "Running: ml-run-process ephys.synthesize_random_firings -i  -o firings_out:firings-7.mda -p duration:1800 K:7 --verbose=minimal\n",
      "Running: ml-run-process ephys.synthesize_random_firings -i  -o firings_out:firings-5.mda -p duration:1800 K:5 --verbose=minimal\n",
      "Running: ml-run-process ephys.synthesize_random_firings -i  -o firings_out:firings-6.mda -p duration:1800 K:6 --verbose=minimal\n",
      "JOBS: pending:3 running:6 finished:0\n",
      "Running: ml-run-process ephys.synthesize_timeseries -i waveforms:waveforms-5.mda firings:firings-5.mda -o timeseries_out:raw-5.mda.prv -p duration:1800 waveform_upsamplefac:13 noise_level:10 --verbose=minimal\n",
      "Running: ml-run-process ephys.synthesize_timeseries -i waveforms:waveforms-6.mda firings:firings-6.mda -o timeseries_out:raw-6.mda.prv -p duration:1800 waveform_upsamplefac:13 noise_level:10 --verbose=minimal\n",
      "Running: ml-run-process ephys.synthesize_timeseries -i waveforms:waveforms-7.mda firings:firings-7.mda -o timeseries_out:raw-7.mda.prv -p duration:1800 waveform_upsamplefac:13 noise_level:10 --verbose=minimal\n",
      "JOBS: pending:0 running:3 finished:6\n"
     ]
    }
   ],
   "source": [
    "MLC.run()"
   ]
  },
  {
   "cell_type": "code",
   "execution_count": 7,
   "metadata": {},
   "outputs": [
    {
     "name": "stdout",
     "output_type": "stream",
     "text": [
      "1\n",
      "2\n",
      "3\n"
     ]
    }
   ],
   "source": [
    "for i in range(1,4):\n",
    "    print(i)"
   ]
  },
  {
   "cell_type": "code",
   "execution_count": 11,
   "metadata": {},
   "outputs": [
    {
     "name": "stdout",
     "output_type": "stream",
     "text": [
      "{'status': 'running'}\n"
     ]
    }
   ],
   "source": [
    "def testfun(a):\n",
    "    a['status']='running'\n",
    "X={}\n",
    "testfun(X)\n",
    "print(X)"
   ]
  },
  {
   "cell_type": "code",
   "execution_count": 15,
   "metadata": {},
   "outputs": [
    {
     "data": {
      "text/plain": [
       "'x y z'"
      ]
     },
     "execution_count": 15,
     "metadata": {},
     "output_type": "execute_result"
    }
   ],
   "source": [
    "a=['x','y','z']\n",
    "' '.join(a)"
   ]
  },
  {
   "cell_type": "code",
   "execution_count": 18,
   "metadata": {},
   "outputs": [
    {
     "data": {
      "text/plain": [
       "dict"
      ]
     },
     "execution_count": 18,
     "metadata": {},
     "output_type": "execute_result"
    }
   ],
   "source": [
    "type({})"
   ]
  },
  {
   "cell_type": "code",
   "execution_count": 19,
   "metadata": {},
   "outputs": [
    {
     "data": {
      "text/plain": [
       "['a', 'v', 'c']"
      ]
     },
     "execution_count": 19,
     "metadata": {},
     "output_type": "execute_result"
    }
   ],
   "source": [
    "'a v c'.split(' ')"
   ]
  },
  {
   "cell_type": "code",
   "execution_count": 26,
   "metadata": {},
   "outputs": [],
   "source": [
    "import random\n",
    "def make_random_id(len):\n",
    "      possible = \"ABCDEFGHIJKLMNOPQRSTUVWXYZabcdefghijklmnopqrstuvwxyz0123456789\"\n",
    "      return ''.join(random.choice(possible) for _ in range(len))"
   ]
  },
  {
   "cell_type": "code",
   "execution_count": 29,
   "metadata": {},
   "outputs": [
    {
     "data": {
      "text/plain": [
       "'CiUF'"
      ]
     },
     "execution_count": 29,
     "metadata": {},
     "output_type": "execute_result"
    }
   ],
   "source": [
    "make_random_id(4)"
   ]
  },
  {
   "cell_type": "code",
   "execution_count": null,
   "metadata": {},
   "outputs": [],
   "source": []
  }
 ],
 "metadata": {
  "kernelspec": {
   "display_name": "Python 3",
   "language": "python",
   "name": "python3"
  },
  "language_info": {
   "codemirror_mode": {
    "name": "ipython",
    "version": 3
   },
   "file_extension": ".py",
   "mimetype": "text/x-python",
   "name": "python",
   "nbconvert_exporter": "python",
   "pygments_lexer": "ipython3",
   "version": "3.5.2"
  }
 },
 "nbformat": 4,
 "nbformat_minor": 2
}
