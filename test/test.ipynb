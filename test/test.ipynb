{
 "cells": [
  {
   "cell_type": "code",
   "execution_count": 45,
   "metadata": {},
   "outputs": [],
   "source": [
    "# First install mountainlab-js including the mountainlab_pytools python module\n",
    "from mountainlab_pytools import mdaio\n",
    "from mountainlab_pytools import mlproc\n",
    "import os"
   ]
  },
  {
   "cell_type": "code",
   "execution_count": 47,
   "metadata": {},
   "outputs": [],
   "source": [
    "def locateFile(X,download=False):\n",
    "    if type(X)==str:\n",
    "        opts=''\n",
    "        if download:\n",
    "            opts=opts+'--download '\n",
    "        path=os.popen('ml-prv-locate {} {}'.format(X,opts)).read().strip()\n",
    "        if not path:\n",
    "            raise Exception('Unable to locate file: {}'.format(X))\n",
    "        return path\n",
    "    else:\n",
    "        raise Exception('Unexpected type in locateFile.')\n",
    "        \n",
    "def realizeFile(X):\n",
    "    return locateFile(X,download=True)"
   ]
  },
  {
   "cell_type": "code",
   "execution_count": 50,
   "metadata": {},
   "outputs": [
    {
     "name": "stdout",
     "output_type": "stream",
     "text": [
      "RUNNING:::::: ml-run-process ephys.synthesize_random_waveforms --inputs --parameters M:10 --outputs waveforms_out:/tmp/mountainlab-tmp/mountainlab/tmp_short_term/output_waveforms_out_20f6b380a384d3dadcbc187630f083845c4c7763.prv\n",
      "\u001b[40m \u001b[36m [ Getting processor spec... ] \u001b[0m\n",
      "\u001b[40m \u001b[36m [ Checking inputs and substituting prvs ... ] \u001b[0m\n",
      "\u001b[40m \u001b[36m [ Computing process signature ... ] \u001b[0m\n",
      "\u001b[40m \u001b[36m [ Checking outputs... ] \u001b[0m\n",
      "\u001b[40m \u001b[36m [ Checking process cache ... ] \u001b[0m\n",
      "\u001b[40m \u001b[36m [ Creating temporary directory ... ] \u001b[0m\n",
      "\u001b[40m \u001b[36m [ Initializing process ... ] \u001b[0m\n",
      "\u001b[40m \u001b[36m [ Running ... ] /home/magland/main-venv/bin/python3 /home/magland/.mountainlab/packages/ml_ephys/synthesis/synthesis.py ephys.synthesize_random_waveforms --waveforms_out=/home/magland/tmp/test1/example_lari_node/outputs/6a982a_waveforms_out --geometry_out= --M=10 --_tempdir=/tmp/mountainlab-tmp/tempdir_0da9d526d2_0gK5dt \u001b[0m\n",
      "\u001b[40m \u001b[36m  \u001b[0m\n",
      "\u001b[40m \u001b[36m Elapsed time for processor ephys.synthesize_random_waveforms: 0.397 sec \u001b[0m\n",
      "\u001b[40m \u001b[36m [ Saving to process cache ... ] \u001b[0m\n",
      "\u001b[40m \u001b[36m [ Removing temporary directory ... ] \u001b[0m\n",
      "\u001b[40m \u001b[36m [ Done. ] \u001b[0m\n",
      "\u001b[40m \u001b[36m Waiting for prv object for output: waveforms_out \u001b[0m\n",
      "\u001b[40m \u001b[36m  \u001b[0m\n",
      "Writing output waveforms_out to file: /tmp/mountainlab-tmp/mountainlab/tmp_short_term/output_waveforms_out_20f6b380a384d3dadcbc187630f083845c4c7763.prv\n",
      "\u001b[40m \u001b[32m ephys.synthesize_random_waveforms completed successfully. \u001b[0m\n",
      "/home/magland/tmp/test1/example_lari_node/outputs/6a982a_waveforms_out\n",
      "(10, 6500, 20)\n"
     ]
    }
   ],
   "source": [
    "# Run a process and load the output file\n",
    "os.environ['LARI_ID']='dae288f91d5f'\n",
    "waveforms_out=mlproc.runProcess('ephys.synthesize_random_waveforms',{},{'waveforms_out':True},{'M':10},{})['waveforms_out']\n",
    "print(realizeFile(waveforms_out))\n",
    "W=mdaio.readmda(realizeFile(waveforms_out))\n",
    "print(W.shape)\n",
    "#W=mls.loadMdaFile(output['waveforms_out'])\n",
    "#print(W.shape)"
   ]
  },
  {
   "cell_type": "code",
   "execution_count": 23,
   "metadata": {},
   "outputs": [
    {
     "name": "stdout",
     "output_type": "stream",
     "text": [
      "Error: 1.1905463326300492e-07\n"
     ]
    }
   ],
   "source": [
    "# Write and read a .mda file\n",
    "X=np.random.normal(0,1,[100,100])\n",
    "mdaio.writemda32(X,'test.mda')\n",
    "Y=mdaio.readmda('test.mda')\n",
    "err=np.max(np.abs(X-Y))\n",
    "print('Error: {}'.format(err))"
   ]
  },
  {
   "cell_type": "code",
   "execution_count": 17,
   "metadata": {},
   "outputs": [
    {
     "name": "stdout",
     "output_type": "stream",
     "text": [
      "{\n",
      "    \"parameters\": [\n",
      "        {\n",
      "            \"name\": \"samplerate\",\n",
      "            \"datatype\": \"float\",\n",
      "            \"optional\": false,\n",
      "            \"description\": \"The sampling rate in Hz\"\n",
      "        },\n",
      "        {\n",
      "            \"name\": \"freq_min\",\n",
      "            \"datatype\": \"float\",\n",
      "            \"optional\": false,\n",
      "            \"description\": \"The lower endpoint of the frequency band (Hz)\"\n",
      "        },\n",
      "        {\n",
      "            \"name\": \"freq_max\",\n",
      "            \"datatype\": \"float\",\n",
      "            \"optional\": false,\n",
      "            \"description\": \"The upper endpoint of the frequency band (Hz)\"\n",
      "        },\n",
      "        {\n",
      "            \"name\": \"freq_wid\",\n",
      "            \"default_value\": 1000,\n",
      "            \"datatype\": \"float\",\n",
      "            \"optional\": true,\n",
      "            \"description\": \"The optional width of the roll-off (Hz)\"\n",
      "        }\n",
      "    ],\n",
      "    \"exe_command\": \"/home/magland/main-venv/bin/python3 /home/magland/.mountainlab/packages/mountainsort/packages/pyms/preprocessing/preprocessing.py pyms.bandpass_filter $(arguments)\",\n",
      "    \"name\": \"pyms.bandpass_filter\",\n",
      "    \"inputs\": [\n",
      "        {\n",
      "            \"name\": \"timeseries\",\n",
      "            \"optional\": false,\n",
      "            \"description\": \"MxN raw timeseries array (M = #channels, N = #timepoints)\"\n",
      "        }\n",
      "    ],\n",
      "    \"outputs\": [\n",
      "        {\n",
      "            \"name\": \"timeseries_out\",\n",
      "            \"optional\": false,\n",
      "            \"description\": \"Filtered output (MxN array)\"\n",
      "        }\n",
      "    ],\n",
      "    \"version\": \"0.1\",\n",
      "    \"description\": \"Apply a bandpass filter to a multi-channel timeseries\"\n",
      "}\n"
     ]
    }
   ],
   "source": [
    "# get the spec of a processor\n",
    "spec=ml.spec('pyms.bandpass_filter')\n",
    "print(json.dumps(spec,indent=4))"
   ]
  },
  {
   "cell_type": "code",
   "execution_count": null,
   "metadata": {},
   "outputs": [],
   "source": []
  }
 ],
 "metadata": {
  "kernelspec": {
   "display_name": "Python 3",
   "language": "python",
   "name": "python3"
  },
  "language_info": {
   "codemirror_mode": {
    "name": "ipython",
    "version": 3
   },
   "file_extension": ".py",
   "mimetype": "text/x-python",
   "name": "python",
   "nbconvert_exporter": "python",
   "pygments_lexer": "ipython3",
   "version": "3.5.2"
  }
 },
 "nbformat": 4,
 "nbformat_minor": 2
}
